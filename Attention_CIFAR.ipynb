{
  "nbformat": 4,
  "nbformat_minor": 0,
  "metadata": {
    "colab": {
      "name": "Attention-CIFAR.ipynb",
      "provenance": [],
      "machine_shape": "hm",
      "authorship_tag": "ABX9TyNqHaVFau3gZep1dAgR41P9",
      "include_colab_link": true
    },
    "kernelspec": {
      "name": "python3",
      "display_name": "Python 3"
    },
    "accelerator": "GPU"
  },
  "cells": [
    {
      "cell_type": "markdown",
      "metadata": {
        "id": "view-in-github",
        "colab_type": "text"
      },
      "source": [
        "<a href=\"https://colab.research.google.com/github/darthwaydr007/attention-experiments/blob/main/Attention_CIFAR.ipynb\" target=\"_parent\"><img src=\"https://colab.research.google.com/assets/colab-badge.svg\" alt=\"Open In Colab\"/></a>"
      ]
    },
    {
      "cell_type": "markdown",
      "metadata": {
        "id": "gLiCiIHdnKHw"
      },
      "source": [
        "## Imports"
      ]
    },
    {
      "cell_type": "code",
      "metadata": {
        "id": "d_RhtdTFWFu-",
        "colab": {
          "base_uri": "https://localhost:8080/"
        },
        "outputId": "380be378-28ab-4540-a022-3b84b8847487"
      },
      "source": [
        "import torch\n",
        "import torch.nn as nn\n",
        "import torch.nn.functional as F\n",
        "import torch.optim as optim\n",
        "from torchvision import datasets, transforms\n",
        "from torchvision.utils import save_image\n",
        "import matplotlib.pyplot as plt\n",
        "import numpy as np\n",
        "import torchvision\n",
        "import random\n",
        "import torch.nn.init as init\n",
        "#scaler = torch.cuda.amp.GradScaler() \n",
        "torch.backends.cudnn.benchmark = True\n",
        "if torch.cuda.is_available():    \n",
        "    device = torch.device(\"cuda\")\n",
        "    print('There are %d GPU available.' % torch.cuda.device_count())\n",
        "    print('GPU:', torch.cuda.get_device_name(0))\n",
        "else:\n",
        "    print('No GPU')\n",
        "    device = torch.device(\"cpu\")"
      ],
      "execution_count": null,
      "outputs": [
        {
          "output_type": "stream",
          "text": [
            "There are 1 GPU available.\n",
            "GPU: Tesla V100-SXM2-16GB\n"
          ],
          "name": "stdout"
        }
      ]
    },
    {
      "cell_type": "code",
      "metadata": {
        "id": "Z-MmsVDrrvXD"
      },
      "source": [
        "#from google.colab import drive\n",
        "#drive.mount('/content/drive')"
      ],
      "execution_count": null,
      "outputs": []
    },
    {
      "cell_type": "markdown",
      "metadata": {
        "id": "lqJY6aafUNFk"
      },
      "source": [
        "## Parameters"
      ]
    },
    {
      "cell_type": "markdown",
      "metadata": {
        "id": "tMBsFFF9UNCT"
      },
      "source": [
        ""
      ]
    },
    {
      "cell_type": "code",
      "metadata": {
        "id": "Nqo_6eGVWFvE",
        "colab": {
          "base_uri": "https://localhost:8080/"
        },
        "outputId": "db68ab0e-e8ea-4091-a7b5-43962d48a081"
      },
      "source": [
        "manualSeed = 42\n",
        "random.seed(manualSeed)\n",
        "torch.manual_seed(manualSeed)"
      ],
      "execution_count": null,
      "outputs": [
        {
          "output_type": "execute_result",
          "data": {
            "text/plain": [
              "<torch._C.Generator at 0x7f42e6822b70>"
            ]
          },
          "metadata": {
            "tags": []
          },
          "execution_count": 123
        }
      ]
    },
    {
      "cell_type": "code",
      "metadata": {
        "id": "Uw0EZYGLWFvI"
      },
      "source": [
        "BATCH_SIZE = 64\n",
        "nc = 3\n",
        "nz = 100\n",
        "ngf = 32\n",
        "ndf = 32\n",
        "LR = 2e-3\n",
        "img_dim = 32\n",
        "CLASSES = 10\n",
        "epsilon = 0.1\n",
        "steps = 10"
      ],
      "execution_count": null,
      "outputs": []
    },
    {
      "cell_type": "markdown",
      "metadata": {
        "id": "-ANb8PycUSDK"
      },
      "source": [
        "## Data"
      ]
    },
    {
      "cell_type": "code",
      "metadata": {
        "id": "fbdZFIn8WFvL",
        "colab": {
          "base_uri": "https://localhost:8080/"
        },
        "outputId": "79570095-3690-46fd-d4d6-579684bd654c"
      },
      "source": [
        "transform=transforms.Compose([\n",
        "                               #transforms.Resize(img_dim),\n",
        "                               \n",
        "                               #transforms.RandomHorizontalFlip(p=0.5),\n",
        "                               #transforms.RandomCrop(32, padding=4),\n",
        "                               transforms.ToTensor(),\n",
        "                               transforms.Normalize((0.5, 0.5, 0.5), (0.5, 0.5, 0.5)),\n",
        "\n",
        "                           ])\n",
        "\n",
        "mnist_train = datasets.CIFAR10(root='/content/drive/My Drive/MNIST', train=True, download=True, transform=transform)\n",
        "mnist_test = datasets.CIFAR10(root='/content/drive/My Drive/MNIST', train=False, download=True, transform=transform)\n",
        "\n",
        "train_loader = torch.utils.data.DataLoader(mnist_train , batch_size = BATCH_SIZE, shuffle = True , drop_last=True,num_workers=10)\n",
        "test_loader = torch.utils.data.DataLoader(mnist_test , batch_size = BATCH_SIZE , shuffle = False , drop_last=True,num_workers=10)\n",
        "classes = ('plane', 'car', 'bird', 'cat',\n",
        "           'deer', 'dog', 'frog', 'horse', 'ship', 'truck')"
      ],
      "execution_count": null,
      "outputs": [
        {
          "output_type": "stream",
          "text": [
            "Files already downloaded and verified\n",
            "Files already downloaded and verified\n"
          ],
          "name": "stdout"
        }
      ]
    },
    {
      "cell_type": "code",
      "metadata": {
        "id": "U0jC4S59WFvN"
      },
      "source": [
        "def display_grid(images):\n",
        "    grid_img = torchvision.utils.make_grid(images , nrow=16)\n",
        "    npimgs = grid_img.cpu().detach().numpy()\n",
        "    npimgs = npimgs*0.5+0.5\n",
        "    plt.figure(figsize=(16,16))\n",
        "    plt.imshow(np.transpose(npimgs, (1,2,0)), cmap='gray')\n",
        "    plt.show()"
      ],
      "execution_count": null,
      "outputs": []
    },
    {
      "cell_type": "code",
      "metadata": {
        "id": "2fA2n-c4WFvS"
      },
      "source": [
        "#display_grid(images)"
      ],
      "execution_count": null,
      "outputs": []
    },
    {
      "cell_type": "markdown",
      "metadata": {
        "id": "XQjtWeGvQPcz"
      },
      "source": [
        "## Model"
      ]
    },
    {
      "cell_type": "code",
      "metadata": {
        "id": "m2F4jXGIlQhB"
      },
      "source": [
        "class AugmentedConv(nn.Module):\n",
        "    def __init__(self, in_channels, out_channels, kernel_size, dk, dv, Nh, shape=0, relative=False, stride=1):\n",
        "        super(AugmentedConv, self).__init__()\n",
        "        self.in_channels = in_channels\n",
        "        self.out_channels = out_channels\n",
        "        self.kernel_size = kernel_size\n",
        "        self.dk = dk\n",
        "        self.dv = dv\n",
        "        self.Nh = Nh\n",
        "        self.shape = shape\n",
        "        self.relative = relative\n",
        "        self.stride = stride\n",
        "        self.padding = (self.kernel_size - 1) // 2\n",
        "\n",
        "        assert self.Nh != 0, \"integer division or modulo by zero, Nh >= 1\"\n",
        "        assert self.dk % self.Nh == 0, \"dk should be divided by Nh. (example: out_channels: 20, dk: 40, Nh: 4)\"\n",
        "        assert self.dv % self.Nh == 0, \"dv should be divided by Nh. (example: out_channels: 20, dv: 4, Nh: 4)\"\n",
        "        assert stride in [1, 2], str(stride) + \" Up to 2 strides are allowed.\"\n",
        "\n",
        "        self.conv_out = nn.Conv2d(self.in_channels, self.out_channels - self.dv, self.kernel_size, stride=stride, padding=self.padding)\n",
        "\n",
        "        self.qkv_conv = nn.Conv2d(self.in_channels, 2 * self.dk + self.dv, kernel_size=self.kernel_size, stride=stride, padding=self.padding)\n",
        "\n",
        "        self.attn_out = nn.Conv2d(self.dv, self.dv, kernel_size=1, stride=1)\n",
        "\n",
        "        if self.relative:\n",
        "            self.key_rel_w = nn.Parameter(torch.randn((2 * self.shape - 1, dk // Nh), requires_grad=True))\n",
        "            self.key_rel_h = nn.Parameter(torch.randn((2 * self.shape - 1, dk // Nh), requires_grad=True))\n",
        "\n",
        "    def forward(self, x):\n",
        "        # Input x\n",
        "        # (batch_size, channels, height, width)\n",
        "        # batch, _, height, width = x.size()\n",
        "\n",
        "        # conv_out\n",
        "        # (batch_size, out_channels, height, width)\n",
        "        conv_out = self.conv_out(x)\n",
        "        batch, _, height, width = conv_out.size()\n",
        "\n",
        "        # flat_q, flat_k, flat_v\n",
        "        # (batch_size, Nh, height * width, dvh or dkh)\n",
        "        # dvh = dv / Nh, dkh = dk / Nh\n",
        "        # q, k, v\n",
        "        # (batch_size, Nh, height, width, dv or dk)\n",
        "        flat_q, flat_k, flat_v, q, k, v = self.compute_flat_qkv(x, self.dk, self.dv, self.Nh)\n",
        "        logits = torch.matmul(flat_q.transpose(2, 3), flat_k)\n",
        "        if self.relative:\n",
        "            h_rel_logits, w_rel_logits = self.relative_logits(q)\n",
        "            logits += h_rel_logits\n",
        "            logits += w_rel_logits\n",
        "        weights = F.softmax(logits, dim=-1)\n",
        "\n",
        "        # attn_out\n",
        "        # (batch, Nh, height * width, dvh)\n",
        "        attn_out = torch.matmul(weights, flat_v.transpose(2, 3))\n",
        "        attn_out = torch.reshape(attn_out, (batch, self.Nh, self.dv // self.Nh, height, width))\n",
        "        # combine_heads_2d\n",
        "        # (batch, out_channels, height, width)\n",
        "        attn_out = self.combine_heads_2d(attn_out)\n",
        "        attn_out = self.attn_out(attn_out)\n",
        "        return torch.cat((conv_out, attn_out), dim=1)\n",
        "\n",
        "    def compute_flat_qkv(self, x, dk, dv, Nh):\n",
        "        qkv = self.qkv_conv(x)\n",
        "        N, _, H, W = qkv.size()\n",
        "        q, k, v = torch.split(qkv, [dk, dk, dv], dim=1)\n",
        "        q = self.split_heads_2d(q, Nh)\n",
        "        k = self.split_heads_2d(k, Nh)\n",
        "        v = self.split_heads_2d(v, Nh)\n",
        "\n",
        "        dkh = dk // Nh\n",
        "        q *= dkh ** -0.5\n",
        "        flat_q = torch.reshape(q, (N, Nh, dk // Nh, H * W))\n",
        "        flat_k = torch.reshape(k, (N, Nh, dk // Nh, H * W))\n",
        "        flat_v = torch.reshape(v, (N, Nh, dv // Nh, H * W))\n",
        "        return flat_q, flat_k, flat_v, q, k, v\n",
        "\n",
        "    def split_heads_2d(self, x, Nh):\n",
        "        batch, channels, height, width = x.size()\n",
        "        ret_shape = (batch, Nh, channels // Nh, height, width)\n",
        "        split = torch.reshape(x, ret_shape)\n",
        "        return split\n",
        "\n",
        "    def combine_heads_2d(self, x):\n",
        "        batch, Nh, dv, H, W = x.size()\n",
        "        ret_shape = (batch, Nh * dv, H, W)\n",
        "        return torch.reshape(x, ret_shape)\n",
        "\n",
        "    def relative_logits(self, q):\n",
        "        B, Nh, dk, H, W = q.size()\n",
        "        q = torch.transpose(q, 2, 4).transpose(2, 3)\n",
        "\n",
        "        rel_logits_w = self.relative_logits_1d(q, self.key_rel_w, H, W, Nh, \"w\")\n",
        "        rel_logits_h = self.relative_logits_1d(torch.transpose(q, 2, 3), self.key_rel_h, W, H, Nh, \"h\")\n",
        "\n",
        "        return rel_logits_h, rel_logits_w\n",
        "\n",
        "    def relative_logits_1d(self, q, rel_k, H, W, Nh, case):\n",
        "        rel_logits = torch.einsum('bhxyd,md->bhxym', q, rel_k)\n",
        "        rel_logits = torch.reshape(rel_logits, (-1, Nh * H, W, 2 * W - 1))\n",
        "        rel_logits = self.rel_to_abs(rel_logits)\n",
        "\n",
        "        rel_logits = torch.reshape(rel_logits, (-1, Nh, H, W, W))\n",
        "        rel_logits = torch.unsqueeze(rel_logits, dim=3)\n",
        "        rel_logits = rel_logits.repeat((1, 1, 1, H, 1, 1))\n",
        "\n",
        "        if case == \"w\":\n",
        "            rel_logits = torch.transpose(rel_logits, 3, 4)\n",
        "        elif case == \"h\":\n",
        "            rel_logits = torch.transpose(rel_logits, 2, 4).transpose(4, 5).transpose(3, 5)\n",
        "        rel_logits = torch.reshape(rel_logits, (-1, Nh, H * W, H * W))\n",
        "        return rel_logits\n",
        "\n",
        "    def rel_to_abs(self, x):\n",
        "        B, Nh, L, _ = x.size()\n",
        "\n",
        "        col_pad = torch.zeros((B, Nh, L, 1)).to(x)\n",
        "        x = torch.cat((x, col_pad), dim=3)\n",
        "\n",
        "        flat_x = torch.reshape(x, (B, Nh, L * 2 * L))\n",
        "        flat_pad = torch.zeros((B, Nh, L - 1)).to(x)\n",
        "        flat_x_padded = torch.cat((flat_x, flat_pad), dim=2)\n",
        "\n",
        "        final_x = torch.reshape(flat_x_padded, (B, Nh, L + 1, 2 * L - 1))\n",
        "        final_x = final_x[:, :, :L, L - 1:]\n",
        "        return final_x"
      ],
      "execution_count": null,
      "outputs": []
    },
    {
      "cell_type": "code",
      "metadata": {
        "id": "wmL-UR-YBqpb"
      },
      "source": [
        "class AttentionConv2d(nn.Module):\n",
        "    def __init__(self, input_dim, output_dim, dk, dv, num_heads, kernel_size, padding, rel_encoding=True, height=None, width=None):\n",
        "        super(AttentionConv2d, self).__init__()\n",
        "        self.input_dim = input_dim\n",
        "        self.output_dim = output_dim\n",
        "        self.dk = dk\n",
        "        self.dv = dv\n",
        "        self.num_heads = num_heads\n",
        "        self.kernel_size = kernel_size\n",
        "        self.dkh = self.dk // self.num_heads\n",
        "        if rel_encoding and not height:\n",
        "            raise(\"Cannot use relative encoding without specifying input's height and width\")\n",
        "        self.H = height\n",
        "        self.W = width\n",
        "\n",
        "        self.conv_qkv = nn.Conv2d(input_dim, 2*dk + dv, 1)\n",
        "        self.conv_attn = nn.Conv2d(dv, dv, 1)\n",
        "        self.conv_out = nn.Conv2d(input_dim, output_dim - dv, kernel_size, padding=padding)\n",
        "        self.softmax = nn.Softmax(dim=-1)\n",
        "        print(\"dkh:\",self.dkh)\n",
        "        print(\"dkh:\",self.dkh)\n",
        "        print(\"dkh:\",self.dkh)\n",
        "\n",
        "        self.key_rel_w = nn.Parameter(self.dkh**-0.5 + torch.rand(2*width-1, self.dkh), requires_grad=True)\n",
        "        self.key_rel_h = nn.Parameter(self.dkh**-0.5 + torch.rand(2*height-1, self.dkh), requires_grad=True)\n",
        "        self.relative_encoding = rel_encoding\n",
        "        \n",
        "\n",
        "    def forward(self, input):\n",
        "        conv_out = self.conv_out(input)\n",
        "\n",
        "        qkv = self.conv_qkv(input)    # batch_size, 2*dk+dv, H, W\n",
        "        \n",
        "        q, k, v = torch.split(qkv, [self.dk, self.dk, self.dv], dim=1)\n",
        "        \n",
        "        batch_size, _, H, W = q.size()\n",
        "\n",
        "        q = q.view([batch_size, self.num_heads, self.dk // self.num_heads, H*W])\n",
        "        k = k.view([batch_size, self.num_heads, self.dk // self.num_heads, H*W])\n",
        "        v = v.view([batch_size, self.num_heads, self.dv // self.num_heads, H*W])\n",
        "\n",
        "        q *= self.dkh ** -0.5\n",
        "        logits = einsum('ijkl, ijkm -> ijlm', q, k)\n",
        "        if self.relative_encoding:\n",
        "            h_rel_logits, w_rel_logits = self._relative_logits(q)\n",
        "            logits += h_rel_logits\n",
        "            logits += w_rel_logits\n",
        "\n",
        "        weights = self.softmax(logits)\n",
        "        attn_out = einsum('ijkl, ijfl -> ijfk', weights, v)\n",
        "        attn_out = attn_out.contiguous().view(batch_size, self.dv, H, W)\n",
        "        attn_out = self.conv_attn(attn_out)\n",
        "        output = torch.cat([conv_out, attn_out], dim=1)\n",
        "        return output\n",
        "\n",
        "    def _relative_logits(self, q):\n",
        "        b, nh, dkh, _ = q.size()\n",
        "        q = q.view(b, nh, dkh, self.H, self.W)\n",
        "\n",
        "        rel_logits_w = self._relative_logits1d(q, self.key_rel_w, self.H, self.W, nh, [0, 1, 2, 4, 3, 5])\n",
        "        rel_logits_h = self._relative_logits1d(q.permute(0, 1, 2, 4, 3), self.key_rel_h, self.W, self.H, nh, [0, 1, 4, 2, 5, 3])\n",
        "        return rel_logits_h, rel_logits_w\n",
        "\n",
        "    def _relative_logits1d(self, q, rel_k, H, W, Nh, transpose_mask):\n",
        "        rel_logits = einsum('bhdxy, md -> bhxym', q, rel_k)\n",
        "\n",
        "        rel_logits = rel_logits.view([-1, Nh*H, W, 2*W-1])\n",
        "        rel_logits = self._rel_to_abs(rel_logits)\n",
        "        rel_logits = rel_logits.view([-1, Nh, H, W, W]).unsqueeze(dim=3).repeat([1,1,1,H,1,1])\n",
        "        rel_logits = rel_logits.permute(*transpose_mask)\n",
        "        rel_logits = rel_logits.contiguous().view(-1, Nh, H*W, H*W)\n",
        "        return rel_logits\n",
        "\n",
        "    def _rel_to_abs(self, x):\n",
        "        b, nh, l, _ = x.size()\n",
        "\n",
        "\n",
        "        x = F.pad(x, (0,1), 'constant', 0)\n",
        "        flat_x = x.view([b, nh, l*(2*l)]);\n",
        "        flat_x_padded = F.pad(flat_x, (0, l-1), 'constant', 0)\n",
        "\n",
        "        final_x = flat_x_padded.view([b, nh, l+1, 2*l-1])\n",
        "        final_x = final_x[:, :, :l, l-1:]\n",
        "\n",
        "        return final_x"
      ],
      "execution_count": null,
      "outputs": []
    },
    {
      "cell_type": "code",
      "metadata": {
        "colab": {
          "base_uri": "https://localhost:8080/"
        },
        "id": "WkVWS7xY-Byi",
        "outputId": "73cad042-ca9b-41c3-b8d7-b80c8f29fe83"
      },
      "source": [
        "# Example Code\n",
        "tmp = torch.randn((16, 3, 32, 32)).to(device)\n",
        "#layer1 = AttentionConv2d(input_dim=3, output_dim=20, dk=20, dv =4, num_heads = 4, kernel_size =3 , padding = 1,rel_encoding=False).to(device)\n",
        "layer2 = AugmentedConv(in_channels=3, out_channels=ndf, kernel_size=3, dk=40, dv=4, Nh=4, relative=True,stride=1, shape=32).to(device)\n",
        "layer3 = nn.Conv2d(3, ndf, kernel_size = 3,stride = 1, padding = 1).to(device)\n",
        "#out1 = layer1(tmp)\n",
        "out2 = layer2(tmp)\n",
        "out3 = layer3(tmp)\n",
        "#print(out1.shape)\n",
        "print(out2.shape)\n",
        "print(out3.shape)\n",
        "# for name, param in augmented_conv1.named_parameters():\n",
        "#     print('parameter name: ', name)\n",
        "#\n",
        "# augmented_conv2 = AugmentedConv(in_channels=3, out_channels=20, kernel_size=3, dk=40, dv=4, Nh=4, relative=True, padding=1, stride=1, shape=32).to(device)\n",
        "# conv_out2 = augmented_conv2(tmp)\n",
        "# print(conv_out2.shape)"
      ],
      "execution_count": null,
      "outputs": [
        {
          "output_type": "stream",
          "text": [
            "torch.Size([16, 32, 32, 32])\n",
            "torch.Size([16, 32, 32, 32])\n"
          ],
          "name": "stdout"
        }
      ]
    },
    {
      "cell_type": "code",
      "metadata": {
        "id": "z5YVR31ZmckV"
      },
      "source": [
        "class Cifar10ClassifierAttention(nn.Module):\n",
        "    def __init__(self,):\n",
        "        super().__init__()\n",
        "        self.model_head = nn.Sequential(\n",
        "            # input is (nc) x 32 x 32\n",
        "            AugmentedConv(in_channels=nc, out_channels=ndf, kernel_size=3, dk=40, dv=4, Nh=4, relative=True,stride=1, shape=32),\n",
        "            nn.BatchNorm2d(ndf),\n",
        "            nn.LeakyReLU(0.2, inplace=True),\n",
        "            # state size. (ndf) x 32 x 32\n",
        "            AugmentedConv(in_channels=ndf, out_channels=ndf*2, kernel_size=3, dk=40, dv=4, Nh=4, relative=True,stride=1, shape=32),\n",
        "            nn.BatchNorm2d(ndf * 2),\n",
        "            nn.LeakyReLU(0.2, inplace=True),\n",
        "            nn.MaxPool2d(kernel_size=(2, 2)),\n",
        "            # state size. (ndf*2) x 16 x 16\n",
        "            AugmentedConv(in_channels=ndf*2, out_channels=ndf*4, kernel_size=3, dk=40, dv=4, Nh=4, relative=True,stride=1, shape=16),\n",
        "            nn.BatchNorm2d(ndf*4),\n",
        "            nn.LeakyReLU(0.2, inplace=True),\n",
        "            # state size. (ndf*4) x 16 x 16\n",
        "            AugmentedConv(in_channels=ndf*4, out_channels=ndf*8, kernel_size=3, dk=40, dv=4, Nh=4, relative=True,stride=1, shape=16),\n",
        "            nn.BatchNorm2d(ndf * 8),\n",
        "            nn.LeakyReLU(0.2, inplace=True),\n",
        "            nn.MaxPool2d(kernel_size=(2, 2))\n",
        "        )\n",
        "            # state size. (ndf*8) x 8 x 8\n",
        "\n",
        "\n",
        "        #)\n",
        "\n",
        "        self.classes = nn.Sequential(\n",
        "            nn.Linear(ndf*8*8*8,ndf*24),\n",
        "            nn.LeakyReLU(0.2, inplace=True),\n",
        "            nn.Linear(ndf*24,ndf*12),\n",
        "            nn.LeakyReLU(0.2, inplace=True),\n",
        "            nn.Linear(ndf*12,CLASSES),\n",
        "            nn.LogSoftmax()\n",
        "        )\n",
        "    def forward(self, input):\n",
        "          out = self.model_head(input)\n",
        "          flatten = out.view(-1 , ndf*8*8*8)\n",
        "          classes = self.classes(flatten)\n",
        "          return classes.cuda()"
      ],
      "execution_count": null,
      "outputs": []
    },
    {
      "cell_type": "code",
      "metadata": {
        "colab": {
          "base_uri": "https://localhost:8080/"
        },
        "id": "ebkA9gWQXLPc",
        "outputId": "76c83e1f-5b67-48d7-9c24-5252fa2c83c5"
      },
      "source": [
        "'''\n",
        "            nn.Conv2d(ndf * 8, ndf*12, kernel_size = 3,stride = 1, padding = 1, bias=False),\n",
        "            nn.BatchNorm2d(ndf*12),\n",
        "            nn.LeakyReLU(0.2, inplace=True),\n",
        "            # state size. (ndf*12) x 16 x 16\n",
        "            nn.Conv2d(ndf*12, ndf * 16, kernel_size = 3,stride = 1, padding = 1, bias=False),\n",
        "            nn.BatchNorm2d(ndf * 16),\n",
        "            nn.LeakyReLU(0.2, inplace=True),\n",
        "            nn.MaxPool2d(kernel_size=(2, 2)),\n",
        "            # state size. (ndf*16) x 4 x 4\n",
        "            nn.Conv2d(ndf * 16, ndf*24, kernel_size = 3,stride = 2, padding = 1, bias=False),\n",
        "            nn.BatchNorm2d(ndf*24),\n",
        "            nn.LeakyReLU(0.2, inplace=True),\n",
        "            # state size. (ndf*24) x 2 x 2\n",
        "            '''"
      ],
      "execution_count": null,
      "outputs": [
        {
          "output_type": "execute_result",
          "data": {
            "application/vnd.google.colaboratory.intrinsic+json": {
              "type": "string"
            },
            "text/plain": [
              "'\\n            nn.Conv2d(ndf * 8, ndf*12, kernel_size = 3,stride = 1, padding = 1, bias=False),\\n            nn.BatchNorm2d(ndf*12),\\n            nn.LeakyReLU(0.2, inplace=True),\\n            # state size. (ndf*12) x 16 x 16\\n            nn.Conv2d(ndf*12, ndf * 16, kernel_size = 3,stride = 1, padding = 1, bias=False),\\n            nn.BatchNorm2d(ndf * 16),\\n            nn.LeakyReLU(0.2, inplace=True),\\n            nn.MaxPool2d(kernel_size=(2, 2)),\\n            # state size. (ndf*16) x 4 x 4\\n            nn.Conv2d(ndf * 16, ndf*24, kernel_size = 3,stride = 2, padding = 1, bias=False),\\n            nn.BatchNorm2d(ndf*24),\\n            nn.LeakyReLU(0.2, inplace=True),\\n            # state size. (ndf*24) x 2 x 2\\n            '"
            ]
          },
          "metadata": {
            "tags": []
          },
          "execution_count": 132
        }
      ]
    },
    {
      "cell_type": "code",
      "metadata": {
        "id": "HHPIpRtLRZU5"
      },
      "source": [
        "#model = Cifar10ClassifierAttention().to(device)\n",
        "#tmp = torch.randn((16, nc, 32, 32)).to(device)\n",
        "#out = model(tmp)\n",
        "#out.shape"
      ],
      "execution_count": null,
      "outputs": []
    },
    {
      "cell_type": "code",
      "metadata": {
        "id": "qYMyERgjWFva"
      },
      "source": [
        "class Cifar10Classifier(nn.Module):\n",
        "    def __init__(self):\n",
        "        super().__init__()\n",
        "        self.model_head = nn.Sequential(\n",
        "            # input is (nc) x 32 x 32\n",
        "            nn.Conv2d(nc, ndf, kernel_size = 3,stride = 1, padding = 1, bias=False),\n",
        "            nn.BatchNorm2d(ndf),\n",
        "            nn.LeakyReLU(0.2, inplace=True),\n",
        "            # state size. (ndf) x 32 x 32\n",
        "            nn.Conv2d(ndf, ndf * 2, kernel_size = 3,stride = 1, padding = 1, bias=False),\n",
        "            nn.BatchNorm2d(ndf * 2),\n",
        "            nn.LeakyReLU(0.2, inplace=True),\n",
        "            nn.MaxPool2d(kernel_size=(2, 2)),\n",
        "            # state size. (ndf*2) x 16 x 16\n",
        "            nn.Conv2d(ndf * 2, ndf*4, kernel_size = 3,stride = 1, padding = 1, bias=False),\n",
        "            nn.BatchNorm2d(ndf*4),\n",
        "            nn.LeakyReLU(0.2, inplace=True),\n",
        "            # state size. (ndf*4) x 16 x 16\n",
        "            nn.Conv2d(ndf*4, ndf * 8, kernel_size = 3,stride = 1, padding = 1, bias=False),\n",
        "            nn.BatchNorm2d(ndf * 8),\n",
        "            nn.LeakyReLU(0.2, inplace=True),\n",
        "            nn.MaxPool2d(kernel_size=(2, 2))\n",
        "            # state size. (ndf*8) x 8 x 8\n",
        "        )\n",
        "\n",
        "        self.classes = nn.Sequential(\n",
        "            nn.Linear(ndf*8*8*8,ndf*24),\n",
        "            nn.LeakyReLU(0.2, inplace=True),\n",
        "            nn.Linear(ndf*24,ndf*12),\n",
        "            nn.LeakyReLU(0.2, inplace=True),\n",
        "            nn.Linear(ndf*12,CLASSES),\n",
        "            nn.LogSoftmax()\n",
        "        )\n",
        "    def forward(self, input):\n",
        "          out = self.model_head(input)\n",
        "          flatten = out.view(-1 , ndf*8*8*8)\n",
        "          classes = self.classes(flatten)\n",
        "          return classes.cuda()\n",
        "    "
      ],
      "execution_count": null,
      "outputs": []
    },
    {
      "cell_type": "code",
      "metadata": {
        "id": "wqXepgrWWFvd"
      },
      "source": [
        "def weight_init(m):\n",
        "    if isinstance(m, nn.Conv1d):\n",
        "        init.normal_(m.weight.data)\n",
        "        if m.bias is not None:\n",
        "            init.normal_(m.bias.data)\n",
        "    elif isinstance(m, nn.Conv2d):\n",
        "        init.xavier_normal_(m.weight.data)\n",
        "        if m.bias is not None:\n",
        "            init.normal_(m.bias.data)\n",
        "    elif isinstance(m, nn.Conv3d):\n",
        "        init.xavier_normal_(m.weight.data)\n",
        "        if m.bias is not None:\n",
        "            init.normal_(m.bias.data)\n",
        "    elif isinstance(m, nn.ConvTranspose1d):\n",
        "        init.normal_(m.weight.data)\n",
        "        if m.bias is not None:\n",
        "            init.normal_(m.bias.data)\n",
        "    elif isinstance(m, nn.ConvTranspose2d):\n",
        "        init.xavier_normal_(m.weight.data)\n",
        "        if m.bias is not None:\n",
        "            init.normal_(m.bias.data)\n",
        "    elif isinstance(m, nn.ConvTranspose3d):\n",
        "        init.xavier_normal_(m.weight.data)\n",
        "        if m.bias is not None:\n",
        "            init.normal_(m.bias.data)\n",
        "    elif isinstance(m, nn.BatchNorm1d):\n",
        "        init.normal_(m.weight.data, mean=1, std=0.02)\n",
        "        init.constant_(m.bias.data, 0)\n",
        "    elif isinstance(m, nn.BatchNorm2d):\n",
        "        init.normal_(m.weight.data, mean=1, std=0.02)\n",
        "        init.constant_(m.bias.data, 0)\n",
        "    elif isinstance(m, nn.BatchNorm3d):\n",
        "        init.normal_(m.weight.data, mean=1, std=0.02)\n",
        "        init.constant_(m.bias.data, 0)\n",
        "    elif isinstance(m, nn.Linear):\n",
        "        init.xavier_normal_(m.weight.data)\n",
        "        init.normal_(m.bias.data)"
      ],
      "execution_count": null,
      "outputs": []
    },
    {
      "cell_type": "markdown",
      "metadata": {
        "id": "RHgev7VhQZbz"
      },
      "source": [
        "## Optimizer and Loss"
      ]
    },
    {
      "cell_type": "code",
      "metadata": {
        "id": "y-luk9_xWFvr"
      },
      "source": [
        "#criterion_disc = nn.BCEWithLogitsLoss()"
      ],
      "execution_count": null,
      "outputs": []
    },
    {
      "cell_type": "code",
      "metadata": {
        "id": "4_ywzBdtWFvt"
      },
      "source": [
        "criterion_aux = nn.NLLLoss()\n",
        "classifier_attention = Cifar10ClassifierAttention().to(device)\n",
        "classifier = Cifar10Classifier().to(device)\n",
        "#classifier.apply(weight_init)"
      ],
      "execution_count": null,
      "outputs": []
    },
    {
      "cell_type": "code",
      "metadata": {
        "id": "QQZ7ADc1RSob"
      },
      "source": [
        "LR = 2e-3"
      ],
      "execution_count": null,
      "outputs": []
    },
    {
      "cell_type": "code",
      "metadata": {
        "id": "ZwPbThkFWFvw"
      },
      "source": [
        "optim_claf = optim.SGD(classifier.parameters(), lr=LR,momentum=0.9) #optim.Adam(classifier.parameters(), lr=LR, betas=(0.5, 0.999))\n",
        "optim_claf_attn = optim.SGD(classifier_attention.parameters(), lr=LR,momentum=0.9) #optim.Adam(classifier_attention.parameters(), lr=LR, betas=(0.5, 0.999))"
      ],
      "execution_count": null,
      "outputs": []
    },
    {
      "cell_type": "code",
      "metadata": {
        "id": "438wmq2YWFv0"
      },
      "source": [
        "n_epoch = 10"
      ],
      "execution_count": null,
      "outputs": []
    },
    {
      "cell_type": "code",
      "metadata": {
        "id": "6eGhQU4eWFv3"
      },
      "source": [
        "#scheduler_claf = torch.optim.lr_scheduler.OneCycleLR(optim_claf, max_lr= LR, steps_per_epoch=len(train_loader), epochs=n_epoch)\n",
        "#scheduler_claf_attn = torch.optim.lr_scheduler.OneCycleLR(optim_claf_attn, max_lr= LR, steps_per_epoch=len(train_loader), epochs=n_epoch)\n",
        "#scheduler_claf = torch.optim.lr_scheduler.OneCycleLR(optimizer_claf, max_lr= LR, steps_per_epoch=len(train_loader), epochs=n_epoch)"
      ],
      "execution_count": null,
      "outputs": []
    },
    {
      "cell_type": "code",
      "metadata": {
        "id": "a7yQHWbeWFwE"
      },
      "source": [
        "Accuracy_Clasf_train = []\n",
        "Accuracy_Clasf_test = []\n",
        "loss_claf = []"
      ],
      "execution_count": null,
      "outputs": []
    },
    {
      "cell_type": "code",
      "metadata": {
        "id": "ZyX2dv8-TyM0"
      },
      "source": [
        "Accuracy_Clasf_train_attn = []\n",
        "Accuracy_Clasf_test_attn = []\n",
        "loss_claf = []"
      ],
      "execution_count": null,
      "outputs": []
    },
    {
      "cell_type": "markdown",
      "metadata": {
        "id": "Bre_2hN1StZP"
      },
      "source": [
        "## Training"
      ]
    },
    {
      "cell_type": "code",
      "metadata": {
        "id": "Fn5OStBWWFwN",
        "colab": {
          "base_uri": "https://localhost:8080/"
        },
        "outputId": "8933d69c-ce70-460f-bf58-6405d6b07c77"
      },
      "source": [
        "#LR = 2e-3\n",
        "#optimizer = optim.Adam(classifier.parameters(), lr = LR, betas=(0.5, 0.999))\n",
        "scaler = torch.cuda.amp.GradScaler()\n",
        "for epoch in range(0, n_epoch): \n",
        "   # if epoch % 5 == 0:\n",
        "   #   LR = LR/2\n",
        "   #   optimizer = optim.Adam(classifier.parameters(), lr = LR, betas=(0.5, 0.999))\n",
        "    #epochs.append(epoch)\n",
        "    #=======================Train=======================#\n",
        "    classifier.train()\n",
        "    correct = 0\n",
        "    total = 0\n",
        "    print('======== Epoch {:} / {:} ========'.format(epoch+1, n_epoch))          \n",
        "    #D_losses, G_losses = [], []\n",
        "    for batch_idx, (x, label) in enumerate(train_loader):\n",
        "      \n",
        "        optim_claf.zero_grad()\n",
        "        #classifier.zero_grad()\n",
        "        img = x.view(BATCH_SIZE, nc, img_dim, img_dim).cuda()\n",
        "        \n",
        "        with torch.cuda.amp.autocast(): \n",
        "          output = classifier(img)\n",
        "          loss = criterion_aux(output , label.cuda())\n",
        "        #loss.backward()\n",
        "        scaler.scale(loss).backward() \n",
        "        \n",
        "        #optimizer.step()\n",
        "        scaler.step(optim_claf) \n",
        "        scaler.update()\n",
        "        #scheduler_claf.step()\n",
        "         \n",
        "        new_loss = loss.item()\n",
        "        #loss_claf.append(new_loss)\n",
        "\n",
        "        for idx ,i in enumerate(output):\n",
        "          if torch.argmax(i) == label[idx]:\n",
        "            correct += 1\n",
        "          total += 1\n",
        "\n",
        "        if batch_idx % 200 == 0 and not batch_idx == 0: \n",
        "          #g_images = new_img.resize(BATCH_SIZE,nc,img_dim,img_dim)\n",
        "          #display_grid(g_images)\n",
        "          print('|| loss : {:} '.format(loss.mean().item())) \n",
        "\n",
        "    Accuracy_Clasf_train.append(correct/total)\n",
        "    print('Accuracy Training regular: ' , round(correct/total , 4))\n",
        "    #=======================Test=======================#    \n",
        "    correct = 0\n",
        "    total = 0\n",
        "    classifier.eval()\n",
        "    with torch.cuda.amp.autocast():\n",
        "      with torch.no_grad():\n",
        "        for batch_idx, (x, label) in enumerate(test_loader):\n",
        "          x_real = x.view(BATCH_SIZE, nc, img_dim, img_dim).cuda()\n",
        "          output = classifier(x_real)\n",
        "          for idx ,i in enumerate(output):\n",
        "            if torch.argmax(i) == label[idx]:\n",
        "              correct += 1\n",
        "            total += 1\n",
        "    Accuracy_Clasf_test.append(correct/total)\n",
        "    print('Accuracy Testing : ' , round(correct/total , 4))\n",
        "    \n",
        "    "
      ],
      "execution_count": null,
      "outputs": [
        {
          "output_type": "stream",
          "text": [
            "======== Epoch 1 / 10 ========\n"
          ],
          "name": "stdout"
        },
        {
          "output_type": "stream",
          "text": [
            "/usr/local/lib/python3.6/dist-packages/torch/nn/modules/container.py:117: UserWarning: Implicit dimension choice for log_softmax has been deprecated. Change the call to include dim=X as an argument.\n",
            "  input = module(input)\n"
          ],
          "name": "stderr"
        },
        {
          "output_type": "stream",
          "text": [
            "|| loss : 1.1324152946472168 \n",
            "|| loss : 1.13309645652771 \n",
            "|| loss : 1.116385579109192 \n",
            "Accuracy Training regular:  0.5642\n",
            "Accuracy Testing :  0.6548\n",
            "======== Epoch 2 / 10 ========\n",
            "|| loss : 1.0561479330062866 \n",
            "|| loss : 0.9855342507362366 \n",
            "|| loss : 0.7093148827552795 \n",
            "Accuracy Training regular:  0.7024\n",
            "Accuracy Testing :  0.7056\n",
            "======== Epoch 3 / 10 ========\n",
            "|| loss : 0.7746318578720093 \n",
            "|| loss : 0.6657141447067261 \n",
            "|| loss : 0.7588242292404175 \n",
            "Accuracy Training regular:  0.7552\n",
            "Accuracy Testing :  0.7448\n",
            "======== Epoch 4 / 10 ========\n",
            "|| loss : 0.6162044405937195 \n",
            "|| loss : 0.6836904287338257 \n",
            "|| loss : 0.5231996178627014 \n",
            "Accuracy Training regular:  0.7943\n",
            "Accuracy Testing :  0.7526\n",
            "======== Epoch 5 / 10 ========\n",
            "|| loss : 0.507188081741333 \n",
            "|| loss : 0.3656005263328552 \n",
            "|| loss : 0.4070948660373688 \n",
            "Accuracy Training regular:  0.8261\n",
            "Accuracy Testing :  0.7555\n",
            "======== Epoch 6 / 10 ========\n",
            "|| loss : 0.5347079038619995 \n",
            "|| loss : 0.41553881764411926 \n",
            "|| loss : 0.4187140464782715 \n",
            "Accuracy Training regular:  0.854\n",
            "Accuracy Testing :  0.7579\n",
            "======== Epoch 7 / 10 ========\n",
            "|| loss : 0.2223992645740509 \n",
            "|| loss : 0.4700550138950348 \n",
            "|| loss : 0.37847498059272766 \n",
            "Accuracy Training regular:  0.8804\n",
            "Accuracy Testing :  0.782\n",
            "======== Epoch 8 / 10 ========\n",
            "|| loss : 0.23570582270622253 \n",
            "|| loss : 0.19149713218212128 \n",
            "|| loss : 0.3597712516784668 \n",
            "Accuracy Training regular:  0.9074\n",
            "Accuracy Testing :  0.7836\n",
            "======== Epoch 9 / 10 ========\n",
            "|| loss : 0.18719112873077393 \n",
            "|| loss : 0.16782443225383759 \n",
            "|| loss : 0.1692650467157364 \n",
            "Accuracy Training regular:  0.9278\n",
            "Accuracy Testing :  0.7927\n",
            "======== Epoch 10 / 10 ========\n",
            "|| loss : 0.24001175165176392 \n",
            "|| loss : 0.14971087872982025 \n",
            "|| loss : 0.17320522665977478 \n",
            "Accuracy Training regular:  0.947\n",
            "Accuracy Testing :  0.7903\n"
          ],
          "name": "stdout"
        }
      ]
    },
    {
      "cell_type": "code",
      "metadata": {
        "id": "dYeOEj1TWFwP",
        "colab": {
          "base_uri": "https://localhost:8080/",
          "height": 279
        },
        "outputId": "32986cde-4884-4ab9-ae11-c242e89364f6"
      },
      "source": [
        "x1 = Accuracy_Clasf_train\n",
        "x2 = Accuracy_Clasf_test\n",
        "\n",
        "plt.plot(x1  , label = 'train')\n",
        "plt.plot(x2  ,  label = 'test')\n",
        "\n",
        "plt.xlabel('Epochs')\n",
        "plt.ylabel('Accuracy')\n",
        "plt.legend()\n",
        "plt.show()"
      ],
      "execution_count": null,
      "outputs": [
        {
          "output_type": "display_data",
          "data": {
            "image/png": "[encoded data removed]",
            "text/plain": [
              "<Figure size 432x288 with 1 Axes>"
            ]
          },
          "metadata": {
            "tags": [],
            "needs_background": "light"
          }
        }
      ]
    },
    {
      "cell_type": "code",
      "metadata": {
        "id": "kIzkYKUJoWUO"
      },
      "source": [
        "torch.cuda.memory_summary(device=None, abbreviated=False)\n",
        "torch.cuda.empty_cache()"
      ],
      "execution_count": null,
      "outputs": []
    },
    {
      "cell_type": "code",
      "metadata": {
        "colab": {
          "base_uri": "https://localhost:8080/"
        },
        "id": "Rq1RN_tgTbRD",
        "outputId": "bc0707a6-5d90-42f6-8c87-28916348cafe"
      },
      "source": [
        "#LR = 2e-3\n",
        "#optimizer = optim.Adam(classifier.parameters(), lr = LR, betas=(0.5, 0.999))\n",
        "scaler = torch.cuda.amp.GradScaler()\n",
        "for epoch in range(0, n_epoch): \n",
        "   # if epoch % 5 == 0:\n",
        "   #   LR = LR/2\n",
        "   #   optimizer = optim.Adam(classifier.parameters(), lr = LR, betas=(0.5, 0.999))\n",
        "    #epochs.append(epoch)\n",
        "    #=======================Train=======================#\n",
        "    classifier_attention.train()\n",
        "    correct = 0\n",
        "    total = 0\n",
        "    print('======== Epoch {:} / {:} ========'.format(epoch+1, n_epoch))          \n",
        "    #D_losses, G_losses = [], []\n",
        "    for batch_idx, (x, label) in enumerate(train_loader):\n",
        "      \n",
        "        optim_claf_attn.zero_grad()\n",
        "        #classifier_attention.zero_grad()\n",
        "        img = x.view(BATCH_SIZE, nc, img_dim, img_dim).cuda()\n",
        "        \n",
        "        with torch.cuda.amp.autocast(): \n",
        "          output = classifier_attention(img)\n",
        "          loss = criterion_aux(output , label.cuda())\n",
        "        #loss.backward()\n",
        "        scaler.scale(loss).backward() \n",
        "        \n",
        "        #optimizer.step()\n",
        "        scaler.step(optim_claf_attn) \n",
        "        scaler.update()\n",
        "        #scheduler_claf_attn.step()\n",
        "         \n",
        "        new_loss = loss.item()\n",
        "        #loss_claf.append(new_loss)\n",
        "\n",
        "        for idx ,i in enumerate(output):\n",
        "          if torch.argmax(i) == label[idx]:\n",
        "            correct += 1\n",
        "          total += 1\n",
        "\n",
        "        if batch_idx % 200 == 0 and not batch_idx == 0: \n",
        "          #g_images = new_img.resize(BATCH_SIZE,nc,img_dim,img_dim)\n",
        "          #display_grid(g_images)\n",
        "          print('|| loss : {:} '.format(loss.mean().item())) \n",
        "\n",
        "    Accuracy_Clasf_train_attn.append(correct/total)\n",
        "    print('Accuracy Training regular: ' , round(correct/total , 4))\n",
        "    #=======================Test=======================#    \n",
        "    correct = 0\n",
        "    total = 0\n",
        "    classifier_attention.eval()\n",
        "    with torch.cuda.amp.autocast():\n",
        "      with torch.no_grad():\n",
        "        for batch_idx, (x, label) in enumerate(test_loader):\n",
        "          x_real = x.view(BATCH_SIZE, nc, img_dim, img_dim).cuda()\n",
        "          output = classifier_attention(x_real)\n",
        "          for idx ,i in enumerate(output):\n",
        "            if torch.argmax(i) == label[idx]:\n",
        "              correct += 1\n",
        "            total += 1\n",
        "    Accuracy_Clasf_test_attn.append(correct/total)\n",
        "    print('Accuracy Testing : ' , round(correct/total , 4))\n",
        "    \n",
        "    "
      ],
      "execution_count": null,
      "outputs": [
        {
          "output_type": "stream",
          "text": [
            "======== Epoch 1 / 10 ========\n"
          ],
          "name": "stdout"
        },
        {
          "output_type": "stream",
          "text": [
            "/usr/local/lib/python3.6/dist-packages/torch/nn/modules/container.py:117: UserWarning: Implicit dimension choice for log_softmax has been deprecated. Change the call to include dim=X as an argument.\n",
            "  input = module(input)\n"
          ],
          "name": "stderr"
        },
        {
          "output_type": "stream",
          "text": [
            "|| loss : 1.374053716659546 \n",
            "|| loss : 1.3507905006408691 \n",
            "|| loss : 0.8516800403594971 \n",
            "Accuracy Training regular:  0.5386\n",
            "Accuracy Testing :  0.6365\n",
            "======== Epoch 2 / 10 ========\n",
            "|| loss : 1.0489082336425781 \n",
            "|| loss : 0.879479169845581 \n",
            "|| loss : 0.8156833052635193 \n",
            "Accuracy Training regular:  0.6912\n",
            "Accuracy Testing :  0.7089\n",
            "======== Epoch 3 / 10 ========\n",
            "|| loss : 0.7118626832962036 \n",
            "|| loss : 0.8409357666969299 \n",
            "|| loss : 0.8304343223571777 \n",
            "Accuracy Training regular:  0.7472\n",
            "Accuracy Testing :  0.7283\n",
            "======== Epoch 4 / 10 ========\n",
            "|| loss : 0.513823390007019 \n",
            "|| loss : 0.5943735241889954 \n",
            "|| loss : 0.7702941298484802 \n",
            "Accuracy Training regular:  0.7863\n",
            "Accuracy Testing :  0.7416\n",
            "======== Epoch 5 / 10 ========\n",
            "|| loss : 0.5245066285133362 \n",
            "|| loss : 0.6253108382225037 \n",
            "|| loss : 0.42211267352104187 \n",
            "Accuracy Training regular:  0.8222\n",
            "Accuracy Testing :  0.7629\n",
            "======== Epoch 6 / 10 ========\n",
            "|| loss : 0.341495156288147 \n",
            "|| loss : 0.310931921005249 \n",
            "|| loss : 0.39867717027664185 \n",
            "Accuracy Training regular:  0.8474\n",
            "Accuracy Testing :  0.7786\n",
            "======== Epoch 7 / 10 ========\n",
            "|| loss : 0.6361911296844482 \n",
            "|| loss : 0.44983890652656555 \n",
            "|| loss : 0.5009124875068665 \n",
            "Accuracy Training regular:  0.8761\n",
            "Accuracy Testing :  0.7951\n",
            "======== Epoch 8 / 10 ========\n",
            "|| loss : 0.2650201618671417 \n",
            "|| loss : 0.1572520136833191 \n",
            "|| loss : 0.2486971914768219 \n",
            "Accuracy Training regular:  0.9004\n",
            "Accuracy Testing :  0.7928\n",
            "======== Epoch 9 / 10 ========\n",
            "|| loss : 0.2586904466152191 \n",
            "|| loss : 0.18132540583610535 \n",
            "|| loss : 0.35309481620788574 \n",
            "Accuracy Training regular:  0.9221\n",
            "Accuracy Testing :  0.8023\n",
            "======== Epoch 10 / 10 ========\n",
            "|| loss : 0.09795346856117249 \n",
            "|| loss : 0.12058743089437485 \n",
            "|| loss : 0.2380554974079132 \n",
            "Accuracy Training regular:  0.9403\n",
            "Accuracy Testing :  0.7949\n"
          ],
          "name": "stdout"
        }
      ]
    },
    {
      "cell_type": "code",
      "metadata": {
        "colab": {
          "base_uri": "https://localhost:8080/"
        },
        "id": "jdSrg2CpTbRE",
        "outputId": "208e0e0d-ec90-4e34-afec-932b97e22f1a"
      },
      "source": [
        "x1 = Accuracy_Clasf_train_attn\n",
        "x2 = Accuracy_Clasf_test_attn\n",
        "\n",
        "plt.plot(x1  , label = 'train')\n",
        "plt.plot(x2  ,  label = 'test')\n",
        "\n",
        "plt.xlabel('Epochs')\n",
        "plt.ylabel('Accuracy')\n",
        "plt.legend()\n",
        "plt.show()"
      ],
      "execution_count": null,
      "outputs": [
        {
          "output_type": "display_data",
          "data": {
            "image/png": "[encoded data removed]",
            "text/plain": [
              "<Figure size 432x288 with 1 Axes>"
            ]
          },
          "metadata": {
            "tags": [],
            "needs_background": "light"
          }
        }
      ]
    },
    {
      "cell_type": "code",
      "metadata": {
        "id": "SsVcgeSulJ5L"
      },
      "source": [
        "#import pickle\n",
        "#pkl_filenam_claf   = \"/content/drive/My Drive/pytorch/classifier-T4.pkl\"\n",
        "#pkl_filenam_gen   = \"/content/drive/My Drive/pytorch/generator-T4.pkl\"\n",
        "#pkl_filenam_disc = \"/content/drive/My Drive/pytorch/discriminator-T4.pkl\"\n",
        "#with open(pkl_filenam_claf, 'wb') as file:  \n",
        "#    pickle.dump(classifier, file)\n",
        "#\n",
        "#with open(pkl_filenam_disc, 'wb') as file:  \n",
        "#    pickle.dump(D, file)\n",
        "#with open(pkl_filenam_gen, 'wb') as file:  \n",
        "#    pickle.dump(G, file)"
      ],
      "execution_count": null,
      "outputs": []
    },
    {
      "cell_type": "code",
      "metadata": {
        "id": "sfIvXDVSWFwS"
      },
      "source": [
        ""
      ],
      "execution_count": null,
      "outputs": []
    }
  ]
}